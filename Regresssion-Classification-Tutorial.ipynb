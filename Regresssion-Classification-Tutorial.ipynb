{
  "nbformat": 4,
  "nbformat_minor": 0,
  "metadata": {
    "colab": {
      "provenance": [],
      "collapsed_sections": []
    },
    "kernelspec": {
      "name": "python3",
      "display_name": "Python 3"
    }
  },
  "cells": [
    {
      "cell_type": "markdown",
      "metadata": {
        "id": "aX-YuEBlRyes"
      },
      "source": [
        "# **Introduction**"
      ]
    },
    {
      "cell_type": "markdown",
      "metadata": {
        "id": "ote1iPggSFs8"
      },
      "source": [
        "In the tutorials, we are going to go through the materials we learned during the week and run some codes to help with the comprehension of the contents.\n",
        "These are the topics that will be covered in the first tutorial:\n",
        "\n",
        "*   Linear Regression\n",
        "*   Classification\n",
        "\n"
      ]
    },
    {
      "cell_type": "markdown",
      "metadata": {
        "id": "WfC_GK0RQ6Bk"
      },
      "source": [
        "# **Linear Regression**"
      ]
    },
    {
      "cell_type": "code",
      "metadata": {
        "id": "9zybDyiEQxhR"
      },
      "source": [
        "# Importing some packages\n",
        "import numpy as np # for numerical analysis\n",
        "import pandas as pd # for dataframe manipulation\n",
        "from tensorflow import keras\n",
        "import matplotlib.pyplot as plt # for plotting data\n",
        "from sklearn import linear_model # to use linear models in library\n",
        "from sklearn.model_selection import train_test_split \n",
        "from sklearn import metrics # to evaluate the performance\n",
        "from sklearn.linear_model import LinearRegression\n"
      ],
      "execution_count": null,
      "outputs": []
    },
    {
      "cell_type": "markdown",
      "metadata": {
        "id": "vbLPv-DDDIET"
      },
      "source": [
        "First, Lets recall Simple Linear Regression from the course.\n",
        "\n",
        "\n"
      ]
    },
    {
      "cell_type": "markdown",
      "metadata": {
        "id": "beZeFtJwEXfw"
      },
      "source": [
        "Imagine we have a feature, $X$, and an output, $Y$, and we want to extract how they are related to each other. We assume the relationship between the output and feature is approximately Linear. The goal is to find the slope (a) and intercept (b) that satisfies the equation:\n",
        "$ Y = a*X + b$ with the minimum error."
      ]
    },
    {
      "cell_type": "markdown",
      "metadata": {
        "id": "CuFqJbyKU_5E"
      },
      "source": [
        "Now lets generate a random variable with 30 points and call it our feature X. \n"
      ]
    },
    {
      "cell_type": "code",
      "metadata": {
        "colab": {
          "base_uri": "https://localhost:8080/",
          "height": 312
        },
        "id": "9GMkZQL_EIRv",
        "outputId": "79bb928f-b4d5-4ff3-a647-864193d29e62"
      },
      "source": [
        "# generating the shift of each data point from the line\n",
        "# np.random.seed(0)\n",
        "random_shifts = np.random.rand(30)\n",
        "\n",
        "# generating the feature X and Output Y\n",
        "X = np.linspace(1,10, 30)\n",
        "Y = 2*X + 7*random_shifts\n",
        "\n",
        "# Plotting Y versus X\n",
        "plt.scatter(X, Y); \n",
        "\n",
        "Model = LinearRegression(fit_intercept=True)\n",
        "Model.fit(X[:, np.newaxis], Y)\n",
        "\n",
        "Xfit = np.linspace(1, 10, 1000)\n",
        "\n",
        "Yfit = Model.predict(Xfit[:, np.newaxis])\n",
        "\n",
        "plt.scatter(X, Y, label='Real Output')\n",
        "plt.xlabel('X')\n",
        "plt.ylabel('Y')\n",
        "plt.plot(Xfit, Yfit,label='Estimated Output');\n",
        "plt.legend()\n",
        "plt.title('Linear Regresion')\n"
      ],
      "execution_count": null,
      "outputs": [
        {
          "output_type": "execute_result",
          "data": {
            "text/plain": [
              "Text(0.5, 1.0, 'Linear Regresion')"
            ]
          },
          "metadata": {
            "tags": []
          },
          "execution_count": 14
        },
        {
          "output_type": "display_data",
          "data": {
            "image/png": "[encoded data removed]",
            "text/plain": [
              "<Figure size 432x288 with 1 Axes>"
            ]
          },
          "metadata": {
            "tags": [],
            "needs_background": "light"
          }
        }
      ]
    },
    {
      "cell_type": "markdown",
      "metadata": {
        "id": "m2gRyl8uGxDu"
      },
      "source": [
        "Now lets try a feature set and Multivaraiate Linear Regression. \n",
        "\n",
        "We take the Boston Housing dataset that contains information about different houses in Boston. We have the access to this data from the scikit-learn library. There are 506 samples and 13 feature variables in this dataset. We want to predict the value of prices of the house in test set using the given features after training model by train set.\n",
        "\n",
        "Let's start by importing the data from library and understand how to work on it. \n",
        "\n"
      ]
    },
    {
      "cell_type": "code",
      "metadata": {
        "colab": {
          "base_uri": "https://localhost:8080/"
        },
        "id": "D_OtxBTI3gdy",
        "outputId": "31671bc3-8f63-43b9-deb1-c2514209e4f2"
      },
      "source": [
        "from sklearn.datasets import load_boston\n",
        "BostonDataset = load_boston()\n",
        "\n",
        "# Extract the content of the dataset:\n",
        "print(BostonDataset.keys())\n",
        "# feature set size\n",
        "print(BostonDataset.data.shape)\n",
        "# target size\n",
        "print(BostonDataset.target.shape)\n",
        "# name of the features with their description\n",
        "print(BostonDataset.feature_names)\n",
        "# data description\n",
        "print(BostonDataset.DESCR)\n"
      ],
      "execution_count": null,
      "outputs": [
        {
          "output_type": "stream",
          "text": [
            "dict_keys(['data', 'target', 'feature_names', 'DESCR', 'filename'])\n",
            "(506, 13)\n",
            "(506,)\n",
            "['CRIM' 'ZN' 'INDUS' 'CHAS' 'NOX' 'RM' 'AGE' 'DIS' 'RAD' 'TAX' 'PTRATIO'\n",
            " 'B' 'LSTAT']\n",
            ".. _boston_dataset:\n",
            "\n",
            "Boston house prices dataset\n",
            "---------------------------\n",
            "\n",
            "**Data Set Characteristics:**  \n",
            "\n",
            "    :Number of Instances: 506 \n",
            "\n",
            "    :Number of Attributes: 13 numeric/categorical predictive. Median Value (attribute 14) is usually the target.\n",
            "\n",
            "    :Attribute Information (in order):\n",
            "        - CRIM     per capita crime rate by town\n",
            "        - ZN       proportion of residential land zoned for lots over 25,000 sq.ft.\n",
            "        - INDUS    proportion of non-retail business acres per town\n",
            "        - CHAS     Charles River dummy variable (= 1 if tract bounds river; 0 otherwise)\n",
            "        - NOX      nitric oxides concentration (parts per 10 million)\n",
            "        - RM       average number of rooms per dwelling\n",
            "        - AGE      proportion of owner-occupied units built prior to 1940\n",
            "        - DIS      weighted distances to five Boston employment centres\n",
            "        - RAD      index of accessibility to radial highways\n",
            "        - TAX      full-value property-tax rate per $10,000\n",
            "        - PTRATIO  pupil-teacher ratio by town\n",
            "        - B        1000(Bk - 0.63)^2 where Bk is the proportion of blacks by town\n",
            "        - LSTAT    % lower status of the population\n",
            "        - MEDV     Median value of owner-occupied homes in $1000's\n",
            "\n",
            "    :Missing Attribute Values: None\n",
            "\n",
            "    :Creator: Harrison, D. and Rubinfeld, D.L.\n",
            "\n",
            "This is a copy of UCI ML housing dataset.\n",
            "https://archive.ics.uci.edu/ml/machine-learning-databases/housing/\n",
            "\n",
            "\n",
            "This dataset was taken from the StatLib library which is maintained at Carnegie Mellon University.\n",
            "\n",
            "The Boston house-price data of Harrison, D. and Rubinfeld, D.L. 'Hedonic\n",
            "prices and the demand for clean air', J. Environ. Economics & Management,\n",
            "vol.5, 81-102, 1978.   Used in Belsley, Kuh & Welsch, 'Regression diagnostics\n",
            "...', Wiley, 1980.   N.B. Various transformations are used in the table on\n",
            "pages 244-261 of the latter.\n",
            "\n",
            "The Boston house-price data has been used in many machine learning papers that address regression\n",
            "problems.   \n",
            "     \n",
            ".. topic:: References\n",
            "\n",
            "   - Belsley, Kuh & Welsch, 'Regression diagnostics: Identifying Influential Data and Sources of Collinearity', Wiley, 1980. 244-261.\n",
            "   - Quinlan,R. (1993). Combining Instance-Based and Model-Based Learning. In Proceedings on the Tenth International Conference of Machine Learning, 236-243, University of Massachusetts, Amherst. Morgan Kaufmann.\n",
            "\n"
          ],
          "name": "stdout"
        }
      ]
    },
    {
      "cell_type": "code",
      "metadata": {
        "colab": {
          "base_uri": "https://localhost:8080/"
        },
        "id": "E4bFcGJeyc2g",
        "outputId": "664ddc59-5e1b-4822-d37c-5675bc3e1742"
      },
      "source": [
        "Features = pd.DataFrame(BostonDataset.data, columns = BostonDataset.feature_names)\n",
        "Target = pd.DataFrame(BostonDataset.target, columns=['Target'])\n",
        "df = Features.join(Target)\n",
        "# features and target at different samples\n",
        "print(df)\n",
        "# Features.isnull().sum(): To check if there is any missing value in the dataset"
      ],
      "execution_count": null,
      "outputs": [
        {
          "output_type": "stream",
          "text": [
            "        CRIM    ZN  INDUS  CHAS    NOX  ...    TAX  PTRATIO       B  LSTAT  Target\n",
            "0    0.00632  18.0   2.31   0.0  0.538  ...  296.0     15.3  396.90   4.98    24.0\n",
            "1    0.02731   0.0   7.07   0.0  0.469  ...  242.0     17.8  396.90   9.14    21.6\n",
            "2    0.02729   0.0   7.07   0.0  0.469  ...  242.0     17.8  392.83   4.03    34.7\n",
            "3    0.03237   0.0   2.18   0.0  0.458  ...  222.0     18.7  394.63   2.94    33.4\n",
            "4    0.06905   0.0   2.18   0.0  0.458  ...  222.0     18.7  396.90   5.33    36.2\n",
            "..       ...   ...    ...   ...    ...  ...    ...      ...     ...    ...     ...\n",
            "501  0.06263   0.0  11.93   0.0  0.573  ...  273.0     21.0  391.99   9.67    22.4\n",
            "502  0.04527   0.0  11.93   0.0  0.573  ...  273.0     21.0  396.90   9.08    20.6\n",
            "503  0.06076   0.0  11.93   0.0  0.573  ...  273.0     21.0  396.90   5.64    23.9\n",
            "504  0.10959   0.0  11.93   0.0  0.573  ...  273.0     21.0  393.45   6.48    22.0\n",
            "505  0.04741   0.0  11.93   0.0  0.573  ...  273.0     21.0  396.90   7.88    11.9\n",
            "\n",
            "[506 rows x 14 columns]\n"
          ],
          "name": "stdout"
        }
      ]
    },
    {
      "cell_type": "markdown",
      "metadata": {
        "id": "Vx209YbX8snw"
      },
      "source": [
        "We want to build a linear model using a training dataset and then perform prediction on unseen or test dataset to evaluate the performance of our model.\n"
      ]
    },
    {
      "cell_type": "code",
      "metadata": {
        "colab": {
          "base_uri": "https://localhost:8080/"
        },
        "id": "bIkroxNk5LuJ",
        "outputId": "c67bb206-390a-4c32-f490-7ca2b1d40753"
      },
      "source": [
        "Data_train, Data_test, Target_train, Target_test = train_test_split(BostonDataset.data, BostonDataset.target, test_size = 0.2, random_state=5)\n",
        "print(Data_train.shape)\n",
        "print(Data_test.shape)\n",
        "print(Target_train.shape)\n",
        "print(Target_test.shape)\n"
      ],
      "execution_count": null,
      "outputs": [
        {
          "output_type": "stream",
          "text": [
            "(404, 13)\n",
            "(102, 13)\n",
            "(404,)\n",
            "(102,)\n"
          ],
          "name": "stdout"
        }
      ]
    },
    {
      "cell_type": "markdown",
      "metadata": {
        "id": "zEIoWyuj9tpu"
      },
      "source": [
        "Now, lets use linear regression to build our model:\n"
      ]
    },
    {
      "cell_type": "code",
      "metadata": {
        "colab": {
          "base_uri": "https://localhost:8080/"
        },
        "id": "6R31mOwT9yWz",
        "outputId": "e74a5434-dbbf-467e-e4ec-d5a686270f9d"
      },
      "source": [
        "from sklearn.metrics import mean_squared_error\n",
        "\n",
        "Model = LinearRegression()\n",
        "Model.fit(Data_train, Target_train)"
      ],
      "execution_count": null,
      "outputs": [
        {
          "output_type": "execute_result",
          "data": {
            "text/plain": [
              "LinearRegression(copy_X=True, fit_intercept=True, n_jobs=None, normalize=False)"
            ]
          },
          "metadata": {
            "tags": []
          },
          "execution_count": 5
        }
      ]
    },
    {
      "cell_type": "markdown",
      "metadata": {
        "id": "pu0Xt3Wm-Ytu"
      },
      "source": [
        "We learned about two evaluation methods in the course: $RSE$ and $R^2$. Let's calculate them by coding now."
      ]
    },
    {
      "cell_type": "code",
      "metadata": {
        "colab": {
          "base_uri": "https://localhost:8080/",
          "height": 364
        },
        "id": "RAj6uuhw_MVV",
        "outputId": "125ffbc6-1fb7-4ac4-9e91-36727a1b153a"
      },
      "source": [
        "import math \n",
        "from  sklearn.metrics import r2_score\n",
        "# Evaluate the model performance on the train dataset\n",
        "Target_train_predict = Model.predict(Data_train)\n",
        "RSS_train = ((Target_train_predict-Target_train)**2).sum()\n",
        "\n",
        "RSE_train = math.sqrt(RSS_train/(Data_train.shape[0]-2))\n",
        "R2_train = r2_score(Target_train, Target_train_predict)\n",
        "print('RSE_train =', RSE_train)\n",
        "print('R^2_train =', R2_train)\n",
        "\n",
        "# Evaluate the model performance on the test dataset\n",
        "\n",
        "Target_test_predict = Model.predict(Data_test)\n",
        "RSS_test = ((Target_test_predict-Target_test)**2).sum()\n",
        "\n",
        "RSE_test = math.sqrt(RSS_test/(Data_test.shape[0]-2))\n",
        "R2_test = r2_score(Target_test, Target_test_predict)\n",
        "print('RSE_test =', RSE_test)\n",
        "print('R^2_test =', R2_test)\n",
        "\n",
        "plt.plot(np.linspace(1,102,102), Target_test,label='Real Target')\n",
        "plt.plot(np.linspace(1,102,102), Target_test_predict,label='Predicted Target')\n",
        "\n",
        "plt.xlabel('sample')\n",
        "plt.ylabel('Target')\n",
        "plt.legend()"
      ],
      "execution_count": null,
      "outputs": [
        {
          "output_type": "stream",
          "text": [
            "RSE_train = 4.752779894843371\n",
            "R^2_train = 0.738339392059052\n",
            "RSE_test = 4.613748804112152\n",
            "R^2_test = 0.7334492147453064\n"
          ],
          "name": "stdout"
        },
        {
          "output_type": "execute_result",
          "data": {
            "text/plain": [
              "<matplotlib.legend.Legend at 0x7fafd8723128>"
            ]
          },
          "metadata": {
            "tags": []
          },
          "execution_count": 11
        },
        {
          "output_type": "display_data",
          "data": {
            "image/png": "[encoded data removed]",
            "text/plain": [
              "<Figure size 432x288 with 1 Axes>"
            ]
          },
          "metadata": {
            "tags": [],
            "needs_background": "light"
          }
        }
      ]
    },
    {
      "cell_type": "markdown",
      "metadata": {
        "id": "UEAQz487v-wS"
      },
      "source": [
        "# **Classification**\n",
        "\n",
        "**Linear Discriminant Analysis**\n"
      ]
    },
    {
      "cell_type": "markdown",
      "metadata": {
        "id": "fv983KsfzGa5"
      },
      "source": [
        "Lets make a classification dataset ourselves. Imagine we have a dataset with 2000 samples and 20 informative features at each sample (non is derived from the other one). These data consists of two classes: 0,1.\n",
        "We need to split this generated dataset again to train and test. We fit our model using the training dataset and then apply it to test data for classification."
      ]
    },
    {
      "cell_type": "code",
      "metadata": {
        "colab": {
          "base_uri": "https://localhost:8080/"
        },
        "id": "8ZIMtd3xy9Sg",
        "outputId": "01b9f1b3-e7b8-4be1-9913-7e1e4779ef23"
      },
      "source": [
        "from sklearn.datasets import make_classification # for generating the classification dataset\n",
        "X, Y = make_classification(n_samples=2000, n_features=20, n_classes=2, n_informative=20, n_redundant=0, random_state=1)\n",
        "X_train, X_test, Y_train, Y_test = train_test_split(X, Y, test_size = 0.2, random_state=5)\n",
        "\n",
        "print(X.shape)\n",
        "print(X_train.shape)\n",
        "print(Y.shape)\n",
        "print(Y_train.shape)"
      ],
      "execution_count": null,
      "outputs": [
        {
          "output_type": "stream",
          "text": [
            "(2000, 20)\n",
            "(1600, 20)\n",
            "(2000,)\n",
            "(1600,)\n"
          ],
          "name": "stdout"
        }
      ]
    },
    {
      "cell_type": "markdown",
      "metadata": {
        "id": "Fpsphvyjy_zT"
      },
      "source": [
        "Now, we want to use LDA for the classification purpose. We know the chance level is 50% for the accuracy and let's see how much can we get with a simple and straight forward usage of features to fit LDA."
      ]
    },
    {
      "cell_type": "code",
      "metadata": {
        "id": "b72MM6-HwZ6d",
        "colab": {
          "base_uri": "https://localhost:8080/"
        },
        "outputId": "3d05bcb4-4157-47d2-86d6-0da59949a3a1"
      },
      "source": [
        "from sklearn.discriminant_analysis import LinearDiscriminantAnalysis\n",
        "from sklearn.metrics import confusion_matrix\n",
        "from sklearn.metrics import accuracy_score\n",
        "\n",
        "LDA = LinearDiscriminantAnalysis()\n",
        "LDA.fit(X_train,Y_train)\n",
        "\n",
        "Y_predict = LDA.predict(X_test)\n",
        "print(Y_predict)\n"
      ],
      "execution_count": null,
      "outputs": [
        {
          "output_type": "stream",
          "text": [
            "[1 0 1 1 1 1 1 0 1 0 1 0 1 1 1 1 1 1 1 1 0 0 0 0 1 0 1 1 0 1 0 1 0 0 0 1 1\n",
            " 1 0 0 0 1 1 0 0 1 0 0 0 0 1 0 1 0 0 1 1 0 1 0 0 1 0 0 0 1 1 0 1 0 0 1 1 0\n",
            " 1 1 0 1 1 0 1 1 1 1 0 0 0 1 0 1 1 1 0 0 1 1 1 1 1 0 1 0 1 1 0 0 0 1 0 1 1\n",
            " 1 1 1 1 1 0 1 1 0 0 1 1 1 1 1 0 1 1 1 0 0 0 1 1 0 0 1 0 0 1 0 0 1 0 0 0 1\n",
            " 0 1 1 0 1 1 1 0 1 0 1 0 0 0 0 1 0 1 1 0 1 1 0 0 1 1 1 0 1 0 0 1 1 0 0 1 0\n",
            " 0 0 1 0 0 1 0 0 0 0 0 1 1 1 0 0 1 1 0 0 1 0 0 1 1 0 0 1 0 1 1 0 1 0 0 0 0\n",
            " 1 1 1 0 0 0 0 0 0 1 1 0 1 0 1 1 0 0 0 1 1 1 1 1 0 0 1 0 1 0 1 0 0 1 0 1 1\n",
            " 1 1 0 0 0 1 0 1 1 1 1 0 1 1 1 1 0 1 0 1 1 1 0 0 0 0 0 1 1 1 1 0 0 1 0 0 0\n",
            " 1 0 1 0 1 1 1 0 0 0 0 1 1 0 0 0 0 0 0 1 1 0 1 1 0 0 0 0 0 1 0 0 1 1 0 0 0\n",
            " 0 0 0 1 1 0 1 1 1 1 1 1 0 1 0 0 1 1 0 0 1 0 1 0 1 0 0 1 0 1 1 1 0 1 1 0 1\n",
            " 0 0 0 1 1 0 0 0 1 0 1 1 1 1 0 0 1 1 0 1 1 1 0 0 0 1 0 0 0 1]\n"
          ],
          "name": "stdout"
        }
      ]
    },
    {
      "cell_type": "markdown",
      "metadata": {
        "id": "AFaoxjSwQUw4"
      },
      "source": [
        "**Evaluation**\n",
        "\n",
        "Let's evaluate the classifier at the next step. We first calculate the confusion matrix and then plot the ROC curve."
      ]
    },
    {
      "cell_type": "code",
      "metadata": {
        "colab": {
          "base_uri": "https://localhost:8080/",
          "height": 644
        },
        "id": "pyfJDKfeQT4a",
        "outputId": "ead6de46-0c40-4c30-fc9d-bb176d011d10"
      },
      "source": [
        "from sklearn.metrics import roc_curve\n",
        "import seaborn as sns\n",
        "Conf_Mat = confusion_matrix(Y_predict,Y_test)\n",
        "Conf_Mat_frame = pd.DataFrame(Conf_Mat, columns = ['Predicted: NO','Predicted: YES'], index=['Actual: NO','Actual: YES'])\n",
        "sns.heatmap(pd.DataFrame(Conf_Mat_frame), cmap=\"YlGnBu\")\n",
        "plt.title('Confusion Matrix')\n",
        "\n",
        "TPR = Conf_Mat[1,1]/(Conf_Mat[1,1] + Conf_Mat[1,0])\n",
        "FPR = Conf_Mat[0,1]/(Conf_Mat[0,1] + Conf_Mat[0,0])\n",
        "Accr = (Conf_Mat[1,1]+Conf_Mat[0,0])/(Conf_Mat[0,0]+Conf_Mat[1,1]+Conf_Mat[1,0]+Conf_Mat[0,1])\n",
        "print('TPR =', TPR)\n",
        "print('FPR =',FPR)\n",
        "print('Accuracy =',Accr)\n",
        "# we can also use the command:\n",
        "Acc = accuracy_score (Y_predict, Y_test)\n",
        "print('Accuracy = ',Acc)\n",
        "\n",
        "dec_test = LDA.decision_function(X_test)\n",
        "\n",
        "Falsa_Positive_Rate, True_Positive_Rate, _ = roc_curve(Y_test, dec_test)\n",
        "plt.figure()\n",
        "plt.plot(Falsa_Positive_Rate,True_Positive_Rate)\n",
        "plt.xlabel('False Positive')\n",
        "plt.ylabel('True Positive')\n",
        "plt.title('ROC Curve')\n",
        "\n"
      ],
      "execution_count": null,
      "outputs": [
        {
          "output_type": "stream",
          "text": [
            "TPR = 0.8275862068965517\n",
            "FPR = 0.19289340101522842\n",
            "Accuracy = 0.8175\n",
            "Accuracy =  0.8175\n"
          ],
          "name": "stdout"
        },
        {
          "output_type": "execute_result",
          "data": {
            "text/plain": [
              "Text(0.5, 1.0, 'ROC Curve')"
            ]
          },
          "metadata": {
            "tags": []
          },
          "execution_count": 13
        },
        {
          "output_type": "display_data",
          "data": {
            "image/png": "[encoded data removed]",
            "text/plain": [
              "<Figure size 432x288 with 2 Axes>"
            ]
          },
          "metadata": {
            "tags": [],
            "needs_background": "light"
          }
        },
        {
          "output_type": "display_data",
          "data": {
            "image/png": "[encoded data removed]",
            "text/plain": [
              "<Figure size 432x288 with 1 Axes>"
            ]
          },
          "metadata": {
            "tags": [],
            "needs_background": "light"
          }
        }
      ]
    },
    {
      "cell_type": "markdown",
      "metadata": {
        "id": "8raiSX-Gks1p"
      },
      "source": [
        "**Homework&Practice:**\n",
        "\n",
        "That would be a great practice to tickle the data and processing steps a bit to see how you can improve the performance of both regression and classification.\n",
        "\n",
        "Please feel free to share your ideas and thoughts on Piazza to discuss them with me or your classmates and maybe challenge them regarding their ideas.\n",
        "\n",
        "If you also have any questions, please send it on Piazza. I try answering as soon as possible."
      ]
    }
  ]
}