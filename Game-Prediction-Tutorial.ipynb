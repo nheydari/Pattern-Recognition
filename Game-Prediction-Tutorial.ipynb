{
  "nbformat": 4,
  "nbformat_minor": 0,
  "metadata": {
    "colab": {
      "provenance": [],
      "collapsed_sections": []
    },
    "kernelspec": {
      "name": "python3",
      "display_name": "Python 3"
    }
  },
  "cells": [
    {
      "cell_type": "markdown",
      "metadata": {
        "id": "pkx1jnRnZUoO"
      },
      "source": [
        "# **Introduction**\n",
        "In this tutorial, we are going to go apply Naive Bayesian Classifier to a dataset to help with the comprehension of the contents. "
      ]
    },
    {
      "cell_type": "markdown",
      "metadata": {
        "id": "_ETDFbqQZlCN"
      },
      "source": [
        "**Game prediction using Bayes theorem**\n",
        "\n",
        "We have some information about two weeks available to decide whether or not a we can play outside.\n",
        "\n",
        "The data includes feature such as \"humidity\", \"outlook\", and \"wind\"."
      ]
    },
    {
      "cell_type": "code",
      "metadata": {
        "colab": {
          "base_uri": "https://localhost:8080/",
          "height": 372
        },
        "id": "b2Fm27aIZT7l",
        "outputId": "f170ee4f-77c9-4780-dd5f-08ac75dc9096"
      },
      "source": [
        "from astropy.table import Table, Column\n",
        "Data = Table()\n",
        "\n",
        "Data['Day'] = ['1','2','3','4','5','6','7','8','9','10','11','12','13','14']\n",
        "Data['Outlook'] = ['Sunny','Sunny','Overcast','Rain','Rain','Rain','Overcast','Sunny','Sunny','Rain','Sunny','Overcast','Overcast','Rain']\n",
        "Data['Humidity'] = ['High','High','High','High','Normal','Normal','Normal','High','Normal','Normal','Normal','High','Normal','High']\n",
        "Data['Wind'] = ['Weak','Strong','Weak','Weak','Weak','Strong','Strong','Weak','Weak','Weak','Strong','Strong','Weak','Strong']\n",
        "Data['Decision'] = ['No','No','Yes','Yes','Yes','No','Yes','No','Yes','Yes','Yes','Yes','Yes','No']\n",
        "\n",
        "#Data.rename_column('Day', 'Outlook', 'Humidity','Wind','Decision')  \n",
        "Data"
      ],
      "execution_count": null,
      "outputs": [
        {
          "output_type": "execute_result",
          "data": {
            "text/html": [
              "<i>Table length=14</i>\n",
              "<table id=\"table139718256011360\" class=\"table-striped table-bordered table-condensed\">\n",
              "<thead><tr><th>Day</th><th>Outlook</th><th>Humidity</th><th>Wind</th><th>Decision</th></tr></thead>\n",
              "<thead><tr><th>str2</th><th>str8</th><th>str6</th><th>str6</th><th>str3</th></tr></thead>\n",
              "<tr><td>1</td><td>Sunny</td><td>High</td><td>Weak</td><td>No</td></tr>\n",
              "<tr><td>2</td><td>Sunny</td><td>High</td><td>Strong</td><td>No</td></tr>\n",
              "<tr><td>3</td><td>Overcast</td><td>High</td><td>Weak</td><td>Yes</td></tr>\n",
              "<tr><td>4</td><td>Rain</td><td>High</td><td>Weak</td><td>Yes</td></tr>\n",
              "<tr><td>5</td><td>Rain</td><td>Normal</td><td>Weak</td><td>Yes</td></tr>\n",
              "<tr><td>6</td><td>Rain</td><td>Normal</td><td>Strong</td><td>No</td></tr>\n",
              "<tr><td>7</td><td>Overcast</td><td>Normal</td><td>Strong</td><td>Yes</td></tr>\n",
              "<tr><td>8</td><td>Sunny</td><td>High</td><td>Weak</td><td>No</td></tr>\n",
              "<tr><td>9</td><td>Sunny</td><td>Normal</td><td>Weak</td><td>Yes</td></tr>\n",
              "<tr><td>10</td><td>Rain</td><td>Normal</td><td>Weak</td><td>Yes</td></tr>\n",
              "<tr><td>11</td><td>Sunny</td><td>Normal</td><td>Strong</td><td>Yes</td></tr>\n",
              "<tr><td>12</td><td>Overcast</td><td>High</td><td>Strong</td><td>Yes</td></tr>\n",
              "<tr><td>13</td><td>Overcast</td><td>Normal</td><td>Weak</td><td>Yes</td></tr>\n",
              "<tr><td>14</td><td>Rain</td><td>High</td><td>Strong</td><td>No</td></tr>\n",
              "</table>"
            ],
            "text/plain": [
              "<Table length=14>\n",
              "Day  Outlook  Humidity  Wind  Decision\n",
              "str2   str8     str6    str6    str3  \n",
              "---- -------- -------- ------ --------\n",
              "   1    Sunny     High   Weak       No\n",
              "   2    Sunny     High Strong       No\n",
              "   3 Overcast     High   Weak      Yes\n",
              "   4     Rain     High   Weak      Yes\n",
              "   5     Rain   Normal   Weak      Yes\n",
              "   6     Rain   Normal Strong       No\n",
              "   7 Overcast   Normal Strong      Yes\n",
              "   8    Sunny     High   Weak       No\n",
              "   9    Sunny   Normal   Weak      Yes\n",
              "  10     Rain   Normal   Weak      Yes\n",
              "  11    Sunny   Normal Strong      Yes\n",
              "  12 Overcast     High Strong      Yes\n",
              "  13 Overcast   Normal   Weak      Yes\n",
              "  14     Rain     High Strong       No"
            ]
          },
          "metadata": {
            "tags": []
          },
          "execution_count": 2
        }
      ]
    },
    {
      "cell_type": "markdown",
      "metadata": {
        "id": "qB6cfEwtghDf"
      },
      "source": [
        "Now for each of the features, we creat a frequency table:\n"
      ]
    },
    {
      "cell_type": "code",
      "metadata": {
        "colab": {
          "base_uri": "https://localhost:8080/"
        },
        "id": "nKhmNwzQggbX",
        "outputId": "822f72ae-ce58-4499-f516-a5512dd1aa10"
      },
      "source": [
        "print(\"\\033[1m\"'Outlook:'\"\\033[\")\n",
        "\n",
        "T_outlook = Table()\n",
        "T_outlook['feature']=['Sunny','Overcast','Rainy']\n",
        "T_outlook['Yes']=['3','4','3']\n",
        "T_outlook['No']=['2','0','2']\n",
        "print(T_outlook)\n",
        "\n",
        "T_Humidity = Table()\n",
        "print(\"\\n\\033[1m\"'Humidity:'\"\\033[\")\n",
        "\n",
        "T_Humidity['feature']=['High','Normal']\n",
        "T_Humidity['Yes']=['3','6']\n",
        "T_Humidity['No']=['4','1']\n",
        "print(T_Humidity)\n",
        "\n",
        "T_Wind = Table()\n",
        "\n",
        "print(\"\\n\\033[1m\"'Wind:'\"\\033[\")\n",
        "T_Wind['feature']=['Weak','Strong']\n",
        "T_Wind['Yes']=['6','3']\n",
        "T_Wind['No']=['2','3']\n",
        "print(T_Wind)\n"
      ],
      "execution_count": null,
      "outputs": [
        {
          "output_type": "stream",
          "text": [
            "\u001b[1mOutlook:\u001b[\n",
            "feature  Yes  No\n",
            "-------- --- ---\n",
            "   Sunny   3   2\n",
            "Overcast   4   0\n",
            "   Rainy   3   2\n",
            "\n",
            "\u001b[1mHumidity:\u001b[\n",
            "feature Yes  No\n",
            "------- --- ---\n",
            "   High   3   4\n",
            " Normal   6   1\n",
            "\n",
            "\u001b[1mWind:\u001b[\n",
            "feature Yes  No\n",
            "------- --- ---\n",
            "   Weak   6   2\n",
            " Strong   3   3\n"
          ],
          "name": "stdout"
        }
      ]
    },
    {
      "cell_type": "markdown",
      "metadata": {
        "id": "5gzKooFTmMCQ"
      },
      "source": [
        "Each of these tables have a corresponding likelihood table as follows:\n",
        "\n"
      ]
    },
    {
      "cell_type": "code",
      "metadata": {
        "colab": {
          "base_uri": "https://localhost:8080/"
        },
        "id": "R-ilmgStmV64",
        "outputId": "2270c9a4-5996-485d-a47a-77b5b46101ab"
      },
      "source": [
        "print(\"\\033[1m\"'Likelihood(Outlook):'\"\\033[\")\n",
        "T_L_outlook = Table()\n",
        "T_L_outlook['feature'] = ['Sunny','Overcast','Rainy']\n",
        "T_L_outlook['P(X|Yes)'] = ['2/10','4/10','3/10']\n",
        "T_L_outlook['P(X|No)'] = ['3/10','0','2/10']\n",
        "T_L_outlook['P(X)=P(X|Yes)+P(X|No)'] = ['5/14','4/14','5/14']\n",
        "\n",
        "print(T_L_outlook)\n",
        "\n",
        "print('\\nP(Yes) = P(Sunny|Yes) + P(Overcast|Yes)+ P(Rainy|Yes) = 9/14')\n",
        "print('\\nP(No) = P(Sunny|No) + P(Overcast|No)+ P(Rainy|No) = 5/14')\n",
        "\n",
        "T_L_Humidity = Table()\n",
        "print(\"\\n\\033[1m\"'Likelihood(Humidity):'\"\\033[\")\n",
        "\n",
        "T_L_Humidity['feature'] = ['High','Normal']\n",
        "T_L_Humidity['P(X|Yes)'] = ['3/9','6/9']\n",
        "T_L_Humidity['P(X|No)'] = ['4/5','1/5']\n",
        "T_L_Humidity['P(X)=P(X|Yes)+P(X|No)'] = ['7/14','7/14']\n",
        "print(T_L_Humidity)\n",
        "\n",
        "print('\\nP(Yes) = P(High|Yes) + P(Normal|Yes) = 9/14')\n",
        "print('\\nP(No) = P(High|No) + P(Normal|No) = 5/14')\n",
        "\n",
        "T_L_Wind = Table()\n",
        "\n",
        "\n",
        "print(\"\\n\\033[1m\"'Likelihood(Wind):'\"\\033[\")\n",
        "T_L_Wind['feature']=['Weak','Strong']\n",
        "T_L_Wind['P(X|Yes)']=['6/9','3/9']\n",
        "T_L_Wind['P(X|No)']=['2/5','3/5']\n",
        "T_L_Wind['P(X)=P(X|Yes)+P(X|No)'] = ['8/14','6/14']\n",
        "print(T_L_Wind)\n",
        "\n",
        "print('\\nP(Yes) = P(Strong|Yes) + P(Weak|Yes) = 9/14')\n",
        "print('\\nP(No) = P(Strong|No) + P(Weak|No) = 5/14')\n"
      ],
      "execution_count": null,
      "outputs": [
        {
          "output_type": "stream",
          "text": [
            "\u001b[1mLikelihood(Outlook):\u001b[\n",
            "feature  P(X|Yes) P(X|No) P(X)=P(X|Yes)+P(X|No)\n",
            "-------- -------- ------- ---------------------\n",
            "   Sunny     2/10    3/10                  5/14\n",
            "Overcast     4/10       0                  4/14\n",
            "   Rainy     3/10    2/10                  5/14\n",
            "\n",
            "P(Yes) = P(Sunny|Yes) + P(Overcast|Yes)+ P(Rainy|Yes) = 9/14\n",
            "\n",
            "P(No) = P(Sunny|No) + P(Overcast|No)+ P(Rainy|No) = 5/14\n",
            "\n",
            "\u001b[1mLikelihood(Humidity):\u001b[\n",
            "feature P(X|Yes) P(X|No) P(X)=P(X|Yes)+P(X|No)\n",
            "------- -------- ------- ---------------------\n",
            "   High      3/9     4/5                  7/14\n",
            " Normal      6/9     1/5                  7/14\n",
            "\n",
            "P(Yes) = P(High|Yes) + P(Normal|Yes) = 9/14\n",
            "\n",
            "P(No) = P(High|No) + P(Normal|No) = 5/14\n",
            "\n",
            "\u001b[1mLikelihood(Wind):\u001b[\n",
            "feature P(X|Yes) P(X|No) P(X)=P(X|Yes)+P(X|No)\n",
            "------- -------- ------- ---------------------\n",
            "   Weak      6/9     2/5                  8/14\n",
            " Strong      3/9     3/5                  6/14\n",
            "\n",
            "P(Yes) = P(Strong|Yes) + P(Weak|Yes) = 9/14\n",
            "\n",
            "P(No) = P(Strong|No) + P(Weak|No) = 5/14\n"
          ],
          "name": "stdout"
        }
      ]
    },
    {
      "cell_type": "markdown",
      "metadata": {
        "id": "pQLW5iPgUtOR"
      },
      "source": [
        "Let's estimate the likelihood of going out to play when the weather is sunny:\n",
        "\n",
        "$ P(Yes|Sunny) = \\frac{P(Sunny|Yes)*P(Yes)}{P(Sunny)} = 0.2*0.64/0.36 = 0.36$\n",
        "\n",
        "And what is the likelihood of not going out when the weather is sunny?\n",
        "\n",
        "$ P(No|Sunny) = \\frac{P(Sunny|No)*P(No)}{P(Sunny)} = 0.3*0.36/0.36 = 0.3$\n",
        "\n",
        "Similarly, estimate $P(Yes|High), P(No|High), P(Yes|Weak), P(No|Weak), etc.$\n",
        "\n",
        "Now, suppose we have a Day with these characteristics:\n",
        "Outlook: Rain\n",
        "Humidity: High\n",
        "Wind: Weak\n",
        "\n",
        "How can we predict if we can play on that day or not?\n",
        "\n",
        "$P(Yes|Rain,High,Weak) = P(Rain|Yes)*P(High|Yes)*P(Weak|Yes)*P(Yes) = 0.3*0.33*0.66*0.64 = 0.042$\n",
        "\n",
        "$P(No|Rain,High,Weak) = P(Rain|No)*P(High|No)*P(Weak|No)*P(No) = 0.2*0.8*0.4*0.36 = 0.023$\n",
        "\n",
        "\n",
        "Normalizing the values gives us:\n",
        "\n",
        "$P(Yes|Rain,High,Weak)-Normalized = \\frac{0.042}{0.042+0.023} = 0.65$\n",
        "$P(No|Rain,High,Weak)-Normalized = \\frac{0.023}{0.042+0.023} = 0.35 $\n",
        "\n",
        "=> Our model predicts that the chance of having the game outside is more.\n",
        "\n",
        "\n",
        "\n",
        "\n"
      ]
    },
    {
      "cell_type": "markdown",
      "metadata": {
        "id": "b2cAosL6h0TM"
      },
      "source": [
        "**Practice**\n",
        "\n",
        "Try different scenarios and compare it with your firends. That will help with reducing the mistakes..\n",
        "\n",
        "**Reference**\n",
        "\n",
        "[Naive Bayes Tutorial](https://dzone.com/articles/naive-bayes-tutorial-naive-bayes-classifier-in-pyt) (with minor error corrections)"
      ]
    }
  ]
}